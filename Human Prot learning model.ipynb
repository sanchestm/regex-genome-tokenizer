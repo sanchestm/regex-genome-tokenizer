{
 "cells": [
  {
   "cell_type": "code",
   "execution_count": 2,
   "id": "06bc5389-cd3b-48e3-bd6a-fe9d967262e9",
   "metadata": {},
   "outputs": [
    {
     "name": "stdout",
     "output_type": "stream",
     "text": [
      "True NVIDIA GeForce GTX 1650 Ti\n"
     ]
    }
   ],
   "source": [
    "from fastai import text\n",
    "import pandas as pd\n",
    "import regexTokenizer as rgt\n",
    "from glob import glob\n",
    "import torch.sparse as ts\n",
    "import torch\n",
    "import fastai.text.all as faitext\n",
    "import fastai as fa\n",
    "\n",
    "print(torch.cuda.is_available(), torch.cuda.get_device_name(0))"
   ]
  },
  {
   "cell_type": "code",
   "execution_count": 4,
   "id": "507b618e-4dd7-4d81-b249-a893c247008c",
   "metadata": {},
   "outputs": [],
   "source": [
    "from transformers import GPT2LMHeadModel, GPT2TokenizerFast"
   ]
  },
  {
   "cell_type": "code",
   "execution_count": 2,
   "id": "53136f21-070b-4605-8fe3-059a1f16ade1",
   "metadata": {},
   "outputs": [],
   "source": [
    "faitext.defaults.text_proc_rules = []"
   ]
  },
  {
   "cell_type": "code",
   "execution_count": 3,
   "id": "b1b83b63-a4c4-441e-a973-f69209879e5b",
   "metadata": {},
   "outputs": [],
   "source": [
    "from regexTokenizer import regexKmerTokenizer\n"
   ]
  },
  {
   "cell_type": "code",
   "execution_count": 4,
   "id": "65d65e7d-1bf9-4011-951e-c019848ef460",
   "metadata": {},
   "outputs": [
    {
     "name": "stdout",
     "output_type": "stream",
     "text": [
      "Wall time: 1.84 s\n"
     ]
    },
    {
     "data": {
      "text/html": [
       "<div>\n",
       "<style scoped>\n",
       "    .dataframe tbody tr th:only-of-type {\n",
       "        vertical-align: middle;\n",
       "    }\n",
       "\n",
       "    .dataframe tbody tr th {\n",
       "        vertical-align: top;\n",
       "    }\n",
       "\n",
       "    .dataframe thead th {\n",
       "        text-align: right;\n",
       "    }\n",
       "</style>\n",
       "<table border=\"1\" class=\"dataframe\">\n",
       "  <thead>\n",
       "    <tr style=\"text-align: right;\">\n",
       "      <th></th>\n",
       "      <th>name</th>\n",
       "      <th>sequence</th>\n",
       "      <th>ID</th>\n",
       "      <th>species</th>\n",
       "    </tr>\n",
       "  </thead>\n",
       "  <tbody>\n",
       "    <tr>\n",
       "      <th>0</th>\n",
       "      <td>alpha-2-macroglobulin isoform a precursor</td>\n",
       "      <td>MGKNKLLHPSLVLLLLVLLPTDASVSGKPQYMVLVPSLLHTETTEKGCVLLSYLNETVTVSASLESVRGNRSLFTDLEAENDVLHCVAFAVPKSSSNEEVMFLTVQVKGPTQEFKKRTTVMVKNEDSLVFVQTDKSIYKPGQTVKFRVVSMDENFHPLNELIPLVYIQDPKGNRIAQWQSFQLEGGLKQFSFPLSSEPFQGSYKVVVQKKSGGRTEHPFTVEEFVLPKFEVQVTVPKIITILEEEMNVSVCGLYTYGKPVPGHVTVSICRKYSDASDCHGEDSQAFCEKFSGQLNSHGCFYQQVKTKVFQLKRKEYEMKLHTEAQIQEEGTVVELTGRQSSEITRTITKLSFVKVDSHFRQGIPFFGQVRLVDGKGVPIPNKVIFIRGNEANYYSNATTDEHGLVQFSINTTNVMGTSLTVRVNYKDRSPCYGYQWVSEEHEEAHHTAYLVFSPSKSFVHLEPMSHELPCGHTQTVQAHYILNGGTLLGLKKLSFYYLIMAKGGIVRTGTHGLLVKQEDMKGHFSISIPVKSDIAPVARLLIYAVLPTGDVIGDSAKYDVENCLANKVDLSFSPSQSLPASHAHLRVTAAPQSVCA...</td>\n",
       "      <td>NP_000005.3</td>\n",
       "      <td>[Homo sapiens]</td>\n",
       "    </tr>\n",
       "    <tr>\n",
       "      <th>1</th>\n",
       "      <td>arylamine N-acetyltransferase 2</td>\n",
       "      <td>MDIEAYFERIGYKNSRNKLDLETLTDILEHQIRAVPFENLNMHCGQAMELGLEAIFDHIVRRNRGGWCLQVNQLLYWALTTIGFQTTMLGGYFYIPPVNKYSTGMVHLLLQVTIDGRNYIVDAGSGSSSQMWQPLELISGKDQPQVPCIFCLTEERGIWYLDQIRREQYITNKEFLNSHLLPKKKHQKIYLFTLEPRTIEDFESMNTYLQTSPTSSFITTSFCSLQTPEGVYCLVGFILTYRKFNYKDNTDLVEFKTLTEEEVEEVLRNIFKISLGRNLVPKPGDGSLTI</td>\n",
       "      <td>NP_000006.2</td>\n",
       "      <td>[Homo sapiens]</td>\n",
       "    </tr>\n",
       "    <tr>\n",
       "      <th>2</th>\n",
       "      <td>medium-chain specific acyl-CoA dehydrogenase, mitochondrial isoform a precursor</td>\n",
       "      <td>MAAGFGRCCRVLRSISRFHWRSQHTKANRQREPGLGFSFEFTEQQKEFQATARKFAREEIIPVAAEYDKTGEYPVPLIRRAWELGLMNTHIPENCGGLGLGTFDACLISEELAYGCTGVQTAIEGNSLGQMPIIIAGNDQQKKKYLGRMTEEPLMCAYCVTEPGAGSDVAGIKTKAEKKGDEYIINGQKMWITNGGKANWYFLLARSDPDPKAPANKAFTGFIVEADTPGIQIGRKELNMGQRCSDTRGIVFEDVKVPKENVLIGDGAGFKVAMGAFDKTRPVVAAGAVGLAQRALDEATKYALERKTFGKLLVEHQAISFMLAEMAMKVELARMSYQRAAWEVDSGRRNTYYASIAKAFAGDIANQLATDAVQILGGNGFNTEYPVEKLMRDAKIYQIYEGTSQIQRLIVAREHIDKYKN</td>\n",
       "      <td>NP_000007.1</td>\n",
       "      <td>[Homo sapiens]</td>\n",
       "    </tr>\n",
       "    <tr>\n",
       "      <th>3</th>\n",
       "      <td>short-chain specific acyl-CoA dehydrogenase, mitochondrial isoform 1 precursor</td>\n",
       "      <td>MAAALLARASGPARRALCPRAWRQLHTIYQSVELPETHQMLLQTCRDFAEKELFPIAAQVDKEHLFPAAQVKKMGGLGLLAMDVPEELGGAGLDYLAYAIAMEEISRGCASTGVIMSVNNSLYLGPILKFGSKEQKQAWVTPFTSGDKIGCFALSEPGNGSDAGAASTTARAEGDSWVLNGTKAWITNAWEASAAVVFASTDRALQNKGISAFLVPMPTPGLTLGKKEDKLGIRGSSTANLIFEDCRIPKDSILGEPGMGFKIAMQTLDMGRIGIASQALGIAQTALDCAVNYAENRMAFGAPLTKLQVIQFKLADMALALESARLLTWRAAMLKDNKKPFIKEAAMAKLAASEAATAISHQAIQILGGMGYVTEMPAERHYRDARITEIYEGTSEIQRLVIAGHLLRSYRS</td>\n",
       "      <td>NP_000008.1</td>\n",
       "      <td>[Homo sapiens]</td>\n",
       "    </tr>\n",
       "    <tr>\n",
       "      <th>4</th>\n",
       "      <td>very long-chain specific acyl-CoA dehydrogenase, mitochondrial isoform 1 precursor</td>\n",
       "      <td>MQAARMAASLGRQLLRLGGGSSRLTALLGQPRPGPARRPYAGGAAQLALDKSDSHPSDALTRKKPAKAESKSFAVGMFKGQLTTDQVFPYPSVLNEEQTQFLKELVEPVSRFFEEVNDPAKNDALEMVEETTWQGLKELGAFGLQVPSELGGVGLCNTQYARLVEIVGMHDLGVGITLGAHQSIGFKGILLFGTKAQKEKYLPKLASGETVAAFCLTEPSSGSDAASIRTSAVPSPCGKYYTLNGSKLWISNGGLADIFTVFAKTPVTDPATGAVKEKITAFVVERGFGGITHGPPEKKMGIKASNTAEVFFDGVRVPSENVLGEVGSGFKVAMHILNNGRFGMAAALAGTMRGIIAKAVDHATNRTQFGEKIHNFGLIQEKLARMVMLQYVTESMAYMVSANMDQGATDFQIEAAISKIFGSEAAWKVTDECIQIMGGMGFMKEPGVERVLRDLRIFRIFEGTNDILRLFVALQGCMDKGKELSGLGSALKNPFGNAGLLLGEAGKQLRRRAGLGSGLSLSGLVHPELSRSGELAVRALEQFATVVEAKLIKHKKGIVNEQFLLQRLADGAIDLYAMVVVLSRASRSLSEGHPTA...</td>\n",
       "      <td>NP_000009.1</td>\n",
       "      <td>[Homo sapiens]</td>\n",
       "    </tr>\n",
       "    <tr>\n",
       "      <th>...</th>\n",
       "      <td>...</td>\n",
       "      <td>...</td>\n",
       "      <td>...</td>\n",
       "      <td>...</td>\n",
       "    </tr>\n",
       "    <tr>\n",
       "      <th>115346</th>\n",
       "      <td>NADH dehydrogenase subunit 4L (mitochondrion)</td>\n",
       "      <td>MPLIYMNIMLAFTISLLGMLVYRSHLMSSLLCLEGMMLSLFIMATLMTLNTHSLLANIVPIAMLVFAACEAAVGLALLVSISNTYGLDYVHNLNLLQC</td>\n",
       "      <td>YP_003024034.1</td>\n",
       "      <td>[Homo sapiens]</td>\n",
       "    </tr>\n",
       "    <tr>\n",
       "      <th>115347</th>\n",
       "      <td>NADH dehydrogenase subunit 4 (mitochondrion)</td>\n",
       "      <td>MLKLIVPTIMLLPLTWLSKKHMIWINTTTHSLIISIIPLLFFNQINNNLFSCSPTFSSDPLTTPLLMLTTWLLPLTIMASQRHLSSEPLSRKKLYLSMLISLQISLIMTFTATELIMFYIFFETTLIPTLAIITRWGNQPERLNAGTYFLFYTLVGSLPLLIALIYTHNTLGSLNILLLTLTAQELSNSWANNLMWLAYTMAFMVKMPLYGLHLWLPKAHVEAPIAGSMVLAAVLLKLGGYGMMRLTLILNPLTKHMAYPFLVLSLWGMIMTSSICLRQTDLKSLIAYSSISHMALVVTAILIQTPWSFTGAVILMIAHGLTSSLLFCLANSNYERTHSRIMILSQGLQTLLPLMAFWWLLASLANLALPPTINLLGELSVLVTTFSWSNITLLLTGLNMLVTALYSLYMFTTTQWGSLTHHINNMKPSFTRENTLMFMHLSPILLLSLNPDIITGFSS</td>\n",
       "      <td>YP_003024035.1</td>\n",
       "      <td>[Homo sapiens]</td>\n",
       "    </tr>\n",
       "    <tr>\n",
       "      <th>115348</th>\n",
       "      <td>NADH dehydrogenase subunit 5 (mitochondrion)</td>\n",
       "      <td>MTMHTTMTTLTLTSLIPPILTTLVNPNKKNSYPHYVKSIVASTFIISLFPTTMFMCLDQEVIISNWHWATTQTTQLSLSFKLDYFSMMFIPVALFVTWSIMEFSLWYMNSDPNINQFFKYLLIFLITMLILVTANNLFQLFIGWEGVGIMSFLLISWWYARADANTAAIQAILYNRIGDIGFILALAWFILHSNSWDPQQMALLNANPSLTPLLGLLLAAAGKSAQLGLHPWLPSAMEGPTPVSALLHSSTMVVAGIFLLIRFHPLAENSPLIQTLTLCLGAITTLFAAVCALTQNDIKKIVAFSTSSQLGLMMVTIGINQPHLAFLHICTHAFFKAMLFMCSGSIIHNLNNEQDIRKMGGLLKTMPLTSTSLTIGSLALAGMPFLTGFYSKDHIIETANMSYTNAWALSITLIATSLTSAYSTRMILLTLTGQPRFPTLTNINENNPTLLNPIKRLAAGSLFAGFLITNNISPASPFQTTIPLYLKLTALAVTFLGLLTALDLNYLTNKLKMKSPLCTFYFSNMLGFYPSITHRTIPYLGLLTSQNLPLLLLDLTWLEKLLPKTISQHQISTSIITSTQKGMIKLYFLSFFFPLI...</td>\n",
       "      <td>YP_003024036.1</td>\n",
       "      <td>[Homo sapiens]</td>\n",
       "    </tr>\n",
       "    <tr>\n",
       "      <th>115349</th>\n",
       "      <td>NADH dehydrogenase subunit 6 (mitochondrion)</td>\n",
       "      <td>MMYALFLLSVGLVMGFVGFSSKPSPIYGGLVLIVSGVVGCVIILNFGGGYMGLMVFLIYLGGMMVVFGYTTAMAIEEYPEAWGSGVEVLVSVLVGLAMEVGLVLWVKEYDGVVVVVNFNSVGSWMIYEGEGSGLIREDPIGAGALYDYGRWLVVVTGWTLFVGVYIVIEIARGN</td>\n",
       "      <td>YP_003024037.1</td>\n",
       "      <td>[Homo sapiens]</td>\n",
       "    </tr>\n",
       "    <tr>\n",
       "      <th>115350</th>\n",
       "      <td>cytochrome b (mitochondrion)</td>\n",
       "      <td>MTPMRKTNPLMKLINHSFIDLPTPSNISAWWNFGSLLGACLILQITTGLFLAMHYSPDASTAFSSIAHITRDVNYGWIIRYLHANGASMFFICLFLHIGRGLYYGSFLYSETWNIGIILLLATMATAFMGYVLPWGQMSFWGATVITNLLSAIPYIGTDLVQWIWGGYSVDSPTLTRFFTFHFILPFIIAALATLHLLFLHETGSNNPLGITSHSDKITFHPYYTIKDALGLLLFLLSLMTLTLFSPDLLGDPDNYTLANPLNTPPHIKPEWYFLFAYTILRSVPNKLGGVLALLLSILILAMIPILHMSKQQSMMFRPLSQSLYWLLAADLLILTWIGGQPVSYPFTIIGQVASVLYFTTILILMPTISLIENKMLKWA</td>\n",
       "      <td>YP_003024038.1</td>\n",
       "      <td>[Homo sapiens]</td>\n",
       "    </tr>\n",
       "  </tbody>\n",
       "</table>\n",
       "<p>115351 rows × 4 columns</p>\n",
       "</div>"
      ],
      "text/plain": [
       "                                                                                        name  \\\n",
       "0                                                 alpha-2-macroglobulin isoform a precursor    \n",
       "1                                                           arylamine N-acetyltransferase 2    \n",
       "2           medium-chain specific acyl-CoA dehydrogenase, mitochondrial isoform a precursor    \n",
       "3            short-chain specific acyl-CoA dehydrogenase, mitochondrial isoform 1 precursor    \n",
       "4        very long-chain specific acyl-CoA dehydrogenase, mitochondrial isoform 1 precursor    \n",
       "...                                                                                      ...   \n",
       "115346                                        NADH dehydrogenase subunit 4L (mitochondrion)    \n",
       "115347                                         NADH dehydrogenase subunit 4 (mitochondrion)    \n",
       "115348                                         NADH dehydrogenase subunit 5 (mitochondrion)    \n",
       "115349                                         NADH dehydrogenase subunit 6 (mitochondrion)    \n",
       "115350                                                         cytochrome b (mitochondrion)    \n",
       "\n",
       "                                                                                                                                                                                                                                                                                                                                                                                                                                                                                                                                                                                                                       sequence  \\\n",
       "0       MGKNKLLHPSLVLLLLVLLPTDASVSGKPQYMVLVPSLLHTETTEKGCVLLSYLNETVTVSASLESVRGNRSLFTDLEAENDVLHCVAFAVPKSSSNEEVMFLTVQVKGPTQEFKKRTTVMVKNEDSLVFVQTDKSIYKPGQTVKFRVVSMDENFHPLNELIPLVYIQDPKGNRIAQWQSFQLEGGLKQFSFPLSSEPFQGSYKVVVQKKSGGRTEHPFTVEEFVLPKFEVQVTVPKIITILEEEMNVSVCGLYTYGKPVPGHVTVSICRKYSDASDCHGEDSQAFCEKFSGQLNSHGCFYQQVKTKVFQLKRKEYEMKLHTEAQIQEEGTVVELTGRQSSEITRTITKLSFVKVDSHFRQGIPFFGQVRLVDGKGVPIPNKVIFIRGNEANYYSNATTDEHGLVQFSINTTNVMGTSLTVRVNYKDRSPCYGYQWVSEEHEEAHHTAYLVFSPSKSFVHLEPMSHELPCGHTQTVQAHYILNGGTLLGLKKLSFYYLIMAKGGIVRTGTHGLLVKQEDMKGHFSISIPVKSDIAPVARLLIYAVLPTGDVIGDSAKYDVENCLANKVDLSFSPSQSLPASHAHLRVTAAPQSVCA...   \n",
       "1                                                                                                                                                                                                                                                                                                                            MDIEAYFERIGYKNSRNKLDLETLTDILEHQIRAVPFENLNMHCGQAMELGLEAIFDHIVRRNRGGWCLQVNQLLYWALTTIGFQTTMLGGYFYIPPVNKYSTGMVHLLLQVTIDGRNYIVDAGSGSSSQMWQPLELISGKDQPQVPCIFCLTEERGIWYLDQIRREQYITNKEFLNSHLLPKKKHQKIYLFTLEPRTIEDFESMNTYLQTSPTSSFITTSFCSLQTPEGVYCLVGFILTYRKFNYKDNTDLVEFKTLTEEEVEEVLRNIFKISLGRNLVPKPGDGSLTI   \n",
       "2                                                                                                                                                                                         MAAGFGRCCRVLRSISRFHWRSQHTKANRQREPGLGFSFEFTEQQKEFQATARKFAREEIIPVAAEYDKTGEYPVPLIRRAWELGLMNTHIPENCGGLGLGTFDACLISEELAYGCTGVQTAIEGNSLGQMPIIIAGNDQQKKKYLGRMTEEPLMCAYCVTEPGAGSDVAGIKTKAEKKGDEYIINGQKMWITNGGKANWYFLLARSDPDPKAPANKAFTGFIVEADTPGIQIGRKELNMGQRCSDTRGIVFEDVKVPKENVLIGDGAGFKVAMGAFDKTRPVVAAGAVGLAQRALDEATKYALERKTFGKLLVEHQAISFMLAEMAMKVELARMSYQRAAWEVDSGRRNTYYASIAKAFAGDIANQLATDAVQILGGNGFNTEYPVEKLMRDAKIYQIYEGTSQIQRLIVAREHIDKYKN   \n",
       "3                                                                                                                                                                                                  MAAALLARASGPARRALCPRAWRQLHTIYQSVELPETHQMLLQTCRDFAEKELFPIAAQVDKEHLFPAAQVKKMGGLGLLAMDVPEELGGAGLDYLAYAIAMEEISRGCASTGVIMSVNNSLYLGPILKFGSKEQKQAWVTPFTSGDKIGCFALSEPGNGSDAGAASTTARAEGDSWVLNGTKAWITNAWEASAAVVFASTDRALQNKGISAFLVPMPTPGLTLGKKEDKLGIRGSSTANLIFEDCRIPKDSILGEPGMGFKIAMQTLDMGRIGIASQALGIAQTALDCAVNYAENRMAFGAPLTKLQVIQFKLADMALALESARLLTWRAAMLKDNKKPFIKEAAMAKLAASEAATAISHQAIQILGGMGYVTEMPAERHYRDARITEIYEGTSEIQRLVIAGHLLRSYRS   \n",
       "4       MQAARMAASLGRQLLRLGGGSSRLTALLGQPRPGPARRPYAGGAAQLALDKSDSHPSDALTRKKPAKAESKSFAVGMFKGQLTTDQVFPYPSVLNEEQTQFLKELVEPVSRFFEEVNDPAKNDALEMVEETTWQGLKELGAFGLQVPSELGGVGLCNTQYARLVEIVGMHDLGVGITLGAHQSIGFKGILLFGTKAQKEKYLPKLASGETVAAFCLTEPSSGSDAASIRTSAVPSPCGKYYTLNGSKLWISNGGLADIFTVFAKTPVTDPATGAVKEKITAFVVERGFGGITHGPPEKKMGIKASNTAEVFFDGVRVPSENVLGEVGSGFKVAMHILNNGRFGMAAALAGTMRGIIAKAVDHATNRTQFGEKIHNFGLIQEKLARMVMLQYVTESMAYMVSANMDQGATDFQIEAAISKIFGSEAAWKVTDECIQIMGGMGFMKEPGVERVLRDLRIFRIFEGTNDILRLFVALQGCMDKGKELSGLGSALKNPFGNAGLLLGEAGKQLRRRAGLGSGLSLSGLVHPELSRSGELAVRALEQFATVVEAKLIKHKKGIVNEQFLLQRLADGAIDLYAMVVVLSRASRSLSEGHPTA...   \n",
       "...                                                                                                                                                                                                                                                                                                                                                                                                                                                                                                                                                                                                                         ...   \n",
       "115346                                                                                                                                                                                                                                                                                                                                                                                                                                                                                                                       MPLIYMNIMLAFTISLLGMLVYRSHLMSSLLCLEGMMLSLFIMATLMTLNTHSLLANIVPIAMLVFAACEAAVGLALLVSISNTYGLDYVHNLNLLQC   \n",
       "115347                                                                                                                                              MLKLIVPTIMLLPLTWLSKKHMIWINTTTHSLIISIIPLLFFNQINNNLFSCSPTFSSDPLTTPLLMLTTWLLPLTIMASQRHLSSEPLSRKKLYLSMLISLQISLIMTFTATELIMFYIFFETTLIPTLAIITRWGNQPERLNAGTYFLFYTLVGSLPLLIALIYTHNTLGSLNILLLTLTAQELSNSWANNLMWLAYTMAFMVKMPLYGLHLWLPKAHVEAPIAGSMVLAAVLLKLGGYGMMRLTLILNPLTKHMAYPFLVLSLWGMIMTSSICLRQTDLKSLIAYSSISHMALVVTAILIQTPWSFTGAVILMIAHGLTSSLLFCLANSNYERTHSRIMILSQGLQTLLPLMAFWWLLASLANLALPPTINLLGELSVLVTTFSWSNITLLLTGLNMLVTALYSLYMFTTTQWGSLTHHINNMKPSFTRENTLMFMHLSPILLLSLNPDIITGFSS   \n",
       "115348  MTMHTTMTTLTLTSLIPPILTTLVNPNKKNSYPHYVKSIVASTFIISLFPTTMFMCLDQEVIISNWHWATTQTTQLSLSFKLDYFSMMFIPVALFVTWSIMEFSLWYMNSDPNINQFFKYLLIFLITMLILVTANNLFQLFIGWEGVGIMSFLLISWWYARADANTAAIQAILYNRIGDIGFILALAWFILHSNSWDPQQMALLNANPSLTPLLGLLLAAAGKSAQLGLHPWLPSAMEGPTPVSALLHSSTMVVAGIFLLIRFHPLAENSPLIQTLTLCLGAITTLFAAVCALTQNDIKKIVAFSTSSQLGLMMVTIGINQPHLAFLHICTHAFFKAMLFMCSGSIIHNLNNEQDIRKMGGLLKTMPLTSTSLTIGSLALAGMPFLTGFYSKDHIIETANMSYTNAWALSITLIATSLTSAYSTRMILLTLTGQPRFPTLTNINENNPTLLNPIKRLAAGSLFAGFLITNNISPASPFQTTIPLYLKLTALAVTFLGLLTALDLNYLTNKLKMKSPLCTFYFSNMLGFYPSITHRTIPYLGLLTSQNLPLLLLDLTWLEKLLPKTISQHQISTSIITSTQKGMIKLYFLSFFFPLI...   \n",
       "115349                                                                                                                                                                                                                                                                                                                                                                                                                                           MMYALFLLSVGLVMGFVGFSSKPSPIYGGLVLIVSGVVGCVIILNFGGGYMGLMVFLIYLGGMMVVFGYTTAMAIEEYPEAWGSGVEVLVSVLVGLAMEVGLVLWVKEYDGVVVVVNFNSVGSWMIYEGEGSGLIREDPIGAGALYDYGRWLVVVTGWTLFVGVYIVIEIARGN   \n",
       "115350                                                                                                                                                                                                                             MTPMRKTNPLMKLINHSFIDLPTPSNISAWWNFGSLLGACLILQITTGLFLAMHYSPDASTAFSSIAHITRDVNYGWIIRYLHANGASMFFICLFLHIGRGLYYGSFLYSETWNIGIILLLATMATAFMGYVLPWGQMSFWGATVITNLLSAIPYIGTDLVQWIWGGYSVDSPTLTRFFTFHFILPFIIAALATLHLLFLHETGSNNPLGITSHSDKITFHPYYTIKDALGLLLFLLSLMTLTLFSPDLLGDPDNYTLANPLNTPPHIKPEWYFLFAYTILRSVPNKLGGVLALLLSILILAMIPILHMSKQQSMMFRPLSQSLYWLLAADLLILTWIGGQPVSYPFTIIGQVASVLYFTTILILMPTISLIENKMLKWA   \n",
       "\n",
       "                    ID         species  \n",
       "0          NP_000005.3  [Homo sapiens]  \n",
       "1          NP_000006.2  [Homo sapiens]  \n",
       "2          NP_000007.1  [Homo sapiens]  \n",
       "3          NP_000008.1  [Homo sapiens]  \n",
       "4          NP_000009.1  [Homo sapiens]  \n",
       "...                ...             ...  \n",
       "115346  YP_003024034.1  [Homo sapiens]  \n",
       "115347  YP_003024035.1  [Homo sapiens]  \n",
       "115348  YP_003024036.1  [Homo sapiens]  \n",
       "115349  YP_003024037.1  [Homo sapiens]  \n",
       "115350  YP_003024038.1  [Homo sapiens]  \n",
       "\n",
       "[115351 rows x 4 columns]"
      ]
     },
     "execution_count": 4,
     "metadata": {},
     "output_type": "execute_result"
    }
   ],
   "source": [
    "tok = regexKmerTokenizer(1000, overlapping= False, protein = True)\n",
    "%time df = tok.seq2pandas('human genome/GRCh38_latest_protein.faa.gz', docformat = 'fasta',from_file=True)\n",
    "def sppliter(name):\n",
    "    left, right = name.find(' '), name.rfind('[')\n",
    "    return [name[:left], name[left:right], name[right:]]\n",
    "df[['ID', 'name', 'species']] = [sppliter(i) for i in df.name]\n",
    "df"
   ]
  },
  {
   "cell_type": "code",
   "execution_count": null,
   "id": "23309beb-3a1f-47ec-9113-193d11949c80",
   "metadata": {},
   "outputs": [],
   "source": [
    "tokAA = faitext.SentencePieceTokenizer(sp_model = 'humanProtAA.model')\n",
    "print(list(tokAA(['MCGF', 'MCHFO'])))\n",
    "tokName = faitext.SentencePieceTokenizer(sp_model = 'humanProtNames.model')\n",
    "print(list(tokName(['NADH dehydrogenase subunit 4L', 'medium-chain specific acyl-CoA dehydrogenase, mitochondrial isoform a precursor'])))"
   ]
  },
  {
   "cell_type": "code",
   "execution_count": null,
   "id": "0edb3f45-acb1-4d57-9b07-27f87da17b24",
   "metadata": {},
   "outputs": [],
   "source": [
    "class LongVariableKmerTokenizer:\n",
    "    def __init__(self, modelname = 'sarsKmer.model', minsize = 4):\n",
    "        import sentencepiece as spm\n",
    "        self.tok = spm.SentencePieceProcessor(model_file=modelname)\n",
    "        self.minsize = minsize\n",
    "    def __call__(self, items):\n",
    "        for t in items: \n",
    "            yield [i.strip('▁') for i in self.tok.EncodeAsPieces(t)] #len(i.strip('▁'))>= self.minsize\n",
    "                    \n",
    "LVKTok = LongVariableKmerTokenizer(modelname = 'humanProtAA.model', minsize = 1)"
   ]
  },
  {
   "cell_type": "code",
   "execution_count": null,
   "id": "51d03215-af37-4c68-9be5-b7a0aa173d8d",
   "metadata": {},
   "outputs": [],
   "source": [
    "%%time\n",
    "dls_lm_name = faitext.TextDataLoaders.from_df(df.sample(50000), tok_tfm=tokName,is_lm=True, valid_pct=0.1, text_col= 'name', rules =[], seq_len = 20)\n",
    "dls_lm_name.show_batch(max_n=20)\n"
   ]
  },
  {
   "cell_type": "code",
   "execution_count": null,
   "id": "9fe6d714-8afb-4fc8-b837-87219dfe5b7c",
   "metadata": {},
   "outputs": [],
   "source": [
    "%%time\n",
    "dls_lm = faitext.TextDataLoaders.from_df(df.sample(50000), tok_tfm=tokAA,is_lm=True, valid_pct=0.1, text_col= 'sequence', rules =[], seq_len = 30 )\n",
    "dls_lm.show_batch(max_n=20)\n"
   ]
  },
  {
   "cell_type": "code",
   "execution_count": null,
   "id": "ded0f2f0-cc8b-4eb8-a4c5-5074a1742944",
   "metadata": {},
   "outputs": [],
   "source": [
    "dls_lm.cuda()\n",
    "#dls_lm_name.cuda()"
   ]
  },
  {
   "cell_type": "code",
   "execution_count": null,
   "id": "23840a92-e59c-4ab2-8e85-88366054cda9",
   "metadata": {},
   "outputs": [],
   "source": [
    "learn = faitext.language_model_learner(dls_lm, faitext.AWD_LSTM, metrics=[faitext.accuracy, faitext.Perplexity()], wd=0.1).to_fp16()\n",
    "#learn_name = faitext.language_model_learner(dls_lm_name, faitext.AWD_LSTM, metrics=[faitext.accuracy, faitext.Perplexity()], wd=0.1).to_fp16()"
   ]
  },
  {
   "cell_type": "code",
   "execution_count": null,
   "id": "6760c662-7575-475b-95cd-2cce97e0a43b",
   "metadata": {},
   "outputs": [],
   "source": [
    "learn.lr_find()"
   ]
  },
  {
   "cell_type": "code",
   "execution_count": null,
   "id": "2fad6c6d-c441-4b70-8ae9-59bf4432fc3c",
   "metadata": {},
   "outputs": [],
   "source": [
    "learn.fit_one_cycle(1, 1e-2)"
   ]
  },
  {
   "cell_type": "code",
   "execution_count": null,
   "id": "5ff2ee60-66b6-4627-ae3d-eabc9cf0b91d",
   "metadata": {},
   "outputs": [],
   "source": [
    "learn_name.unfreeze()\n",
    "learn_name.fit_one_cycle(5, .0063095735386013985)"
   ]
  },
  {
   "cell_type": "code",
   "execution_count": null,
   "id": "33d06951-436c-4b80-97db-18ee9f96fb08",
   "metadata": {},
   "outputs": [],
   "source": [
    "#learn.save('Sarscov2fastai')\n",
    "#learn = learn.load('Sarscov2fastai')"
   ]
  },
  {
   "cell_type": "code",
   "execution_count": null,
   "id": "881d667b-d934-4d3a-905c-9b0236246cd7",
   "metadata": {},
   "outputs": [],
   "source": [
    "learn = learn.load('Sarscov2fastai')\n",
    "TEXT = \"GGTAACAAACCAA\"\n",
    "N_WORDS = 40\n",
    "N_SENTENCES = 5\n",
    "preds = [learn.predict(TEXT, N_WORDS, temperature=2).replace(' ', '')   for _ in range(N_SENTENCES)]\n",
    "for num,i in enumerate(preds): print('>{}\\n'.format(num)+ i)"
   ]
  },
  {
   "cell_type": "code",
   "execution_count": null,
   "id": "8bb2a432-916f-4927-ab41-62b98f6d05c5",
   "metadata": {},
   "outputs": [],
   "source": [
    "TEXT = \"zinc finger\"\n",
    "N_WORDS = 20\n",
    "N_SENTENCES = 5\n",
    "preds = [learn_name.predict(TEXT, N_WORDS, temperature=.5).replace(' ', '')   for _ in range(N_SENTENCES)]\n",
    "for num,i in enumerate(preds): print('>{}\\n'.format(num)+ i)"
   ]
  },
  {
   "cell_type": "code",
   "execution_count": null,
   "id": "1f338524-d9a1-42c6-9d6b-0713167e3f4c",
   "metadata": {},
   "outputs": [],
   "source": []
  },
  {
   "cell_type": "code",
   "execution_count": null,
   "id": "a81cd249-b422-4b2d-8afb-f6502a85cbed",
   "metadata": {},
   "outputs": [],
   "source": []
  },
  {
   "cell_type": "code",
   "execution_count": null,
   "id": "5cafd451-0876-43b2-a27e-e850f45f6860",
   "metadata": {},
   "outputs": [],
   "source": []
  },
  {
   "cell_type": "code",
   "execution_count": null,
   "id": "acd3715d-cf89-4dd9-871e-395638383da2",
   "metadata": {},
   "outputs": [],
   "source": []
  },
  {
   "cell_type": "code",
   "execution_count": null,
   "id": "5f390fd1-f7d0-4fd7-8aab-5b9182b285e6",
   "metadata": {},
   "outputs": [],
   "source": [
    "\n",
    "        \n",
    "list(LVKTok(['CGATCGATCGTACGTAGTCAGTGCATCGATGCATGCATGACTCAGA', 'ACGTACGTACGTACGCAAAAAAAAAATGGCATGCATCA']))"
   ]
  }
 ],
 "metadata": {
  "kernelspec": {
   "display_name": "Python [conda env:fai]",
   "language": "python",
   "name": "conda-env-fai-py"
  },
  "language_info": {
   "codemirror_mode": {
    "name": "ipython",
    "version": 3
   },
   "file_extension": ".py",
   "mimetype": "text/x-python",
   "name": "python",
   "nbconvert_exporter": "python",
   "pygments_lexer": "ipython3",
   "version": "3.8.12"
  }
 },
 "nbformat": 4,
 "nbformat_minor": 5
}
